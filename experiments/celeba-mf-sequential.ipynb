{
 "cells": [
  {
   "cell_type": "markdown",
   "metadata": {},
   "source": [
    "## Config"
   ]
  },
  {
   "cell_type": "code",
   "execution_count": null,
   "metadata": {},
   "outputs": [],
   "source": [
    "import os\n",
    "os.environ['CUDA_VISIBLE_DEVICES'] = '0'"
   ]
  },
  {
   "cell_type": "code",
   "execution_count": null,
   "metadata": {},
   "outputs": [],
   "source": [
    "%load_ext autoreload\n",
    "%autoreload 2\n",
    "\n",
    "from pathlib import Path\n",
    "from experiment import data_path, device\n",
    "\n",
    "model_name = 'celeba-mf-sequential'\n",
    "checkpoint_path = data_path / 'cef_models' / model_name\n",
    "gen_path = data_path / 'generated' / model_name"
   ]
  },
  {
   "cell_type": "markdown",
   "metadata": {},
   "source": [
    "## Load data"
   ]
  },
  {
   "cell_type": "code",
   "execution_count": null,
   "metadata": {},
   "outputs": [],
   "source": [
    "import torchvision\n",
    "from torch.utils.data import DataLoader\n",
    "from torchvision import transforms\n",
    "import data\n",
    "\n",
    "transform = transforms.Compose([\n",
    "    transforms.Resize((64, 64)),\n",
    "    transforms.ToTensor(),\n",
    "])\n",
    "\n",
    "train_data = data.CelebA(root=data_path, split='train', transform=transform)\n",
    "val_data = data.CelebA(root=data_path, split='valid', transform=transform)\n",
    "test_data = data.CelebA(root=data_path, split='test', transform=transform)"
   ]
  },
  {
   "cell_type": "markdown",
   "metadata": {},
   "source": [
    "## Define model"
   ]
  },
  {
   "cell_type": "code",
   "execution_count": null,
   "metadata": {},
   "outputs": [],
   "source": [
    "from nflows import cef_models\n",
    "\n",
    "flow =  cef_models.CelebAMFlow().to(device)"
   ]
  },
  {
   "cell_type": "markdown",
   "metadata": {},
   "source": [
    "## Train"
   ]
  },
  {
   "cell_type": "code",
   "execution_count": null,
   "metadata": {
    "scrolled": false
   },
   "outputs": [],
   "source": [
    "import torch.optim as opt\n",
    "from experiment import train_injective_flow\n",
    "\n",
    "optim = opt.Adam(flow.parameters(), lr=0.0001)\n",
    "scheduler = opt.lr_scheduler.CosineAnnealingLR(optim, 300)\n",
    "\n",
    "def weight_schedule():\n",
    "    for _ in range(30):\n",
    "        yield 0, 10000\n",
    "        \n",
    "train_loader = DataLoader(train_data, batch_size=256, shuffle=True, num_workers=30)\n",
    "val_loader = DataLoader(val_data, batch_size=128, shuffle=True, num_workers=30)\n",
    "\n",
    "train_injective_flow(flow, optim, scheduler, weight_schedule, train_loader, val_loader,\n",
    "                     model_name, checkpoint_path=checkpoint_path, checkpoint_frequency=100)"
   ]
  },
  {
   "cell_type": "code",
   "execution_count": null,
   "metadata": {
    "scrolled": false
   },
   "outputs": [],
   "source": [
    "optim = opt.Adam(flow.distribution.parameters(), lr=0.0001)\n",
    "scheduler = opt.lr_scheduler.CosineAnnealingLR(optim, 300)\n",
    "\n",
    "def weight_schedule():\n",
    "    for _ in range(300):\n",
    "        yield 0.001, 0\n",
    "        scheduler.step()\n",
    "\n",
    "train_injective_flow(flow, optim, scheduler, weight_schedule, train_loader, val_loader,\n",
    "                     model_name, checkpoint_path=checkpoint_path, checkpoint_frequency=25)"
   ]
  },
  {
   "cell_type": "markdown",
   "metadata": {},
   "source": [
    "## Generate some samples"
   ]
  },
  {
   "cell_type": "code",
   "execution_count": null,
   "metadata": {},
   "outputs": [],
   "source": [
    "from experiment import save_samples\n",
    "\n",
    "save_samples(flow, num_samples=len(test_data), gen_path=gen_path, checkpoint_epoch=-1, batch_size=512)"
   ]
  }
 ],
 "metadata": {
  "kernelspec": {
   "display_name": "cflows",
   "language": "python",
   "name": "cflows"
  },
  "language_info": {
   "codemirror_mode": {
    "name": "ipython",
    "version": 3
   },
   "file_extension": ".py",
   "mimetype": "text/x-python",
   "name": "python",
   "nbconvert_exporter": "python",
   "pygments_lexer": "ipython3",
   "version": "3.9.6"
  }
 },
 "nbformat": 4,
 "nbformat_minor": 4
}
