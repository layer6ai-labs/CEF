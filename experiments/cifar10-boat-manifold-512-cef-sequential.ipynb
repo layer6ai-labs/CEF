{
 "cells": [
  {
   "cell_type": "markdown",
   "metadata": {},
   "source": [
    "## Config"
   ]
  },
  {
   "cell_type": "code",
   "execution_count": null,
   "metadata": {},
   "outputs": [],
   "source": [
    "import os\n",
    "os.environ['CUDA_VISIBLE_DEVICES'] = '0'"
   ]
  },
  {
   "cell_type": "code",
   "execution_count": null,
   "metadata": {},
   "outputs": [],
   "source": [
    "%load_ext autoreload\n",
    "%autoreload 2\n",
    "\n",
    "from pathlib import Path\n",
    "from experiment import data_path, device\n",
    "\n",
    "m = 512 # Manifold dimension\n",
    "model_name = f'cifar10-boat-manifold-{m}-cef-sequential'\n",
    "checkpoint_path = data_path / 'cef_models' / model_name\n",
    "gen_path = data_path / 'generated' / model_name"
   ]
  },
  {
   "cell_type": "markdown",
   "metadata": {},
   "source": [
    "## Load data"
   ]
  },
  {
   "cell_type": "code",
   "execution_count": null,
   "metadata": {},
   "outputs": [],
   "source": [
    "import torchvision\n",
    "from torch.utils.data import DataLoader, random_split\n",
    "from torchvision import transforms\n",
    "\n",
    "transform = transforms.Compose([\n",
    "    transforms.ToTensor(),\n",
    "])\n",
    "\n",
    "image_folder = data_path / f'cifar10-manifold-{m}-boat'\n",
    "train_data = torchvision.datasets.ImageFolder(root=str(image_folder), transform=transform)\n",
    "held_out = len(train_data) // 10\n",
    "train_data, val_data = random_split(train_data, [len(train_data) - held_out, held_out])"
   ]
  },
  {
   "cell_type": "markdown",
   "metadata": {},
   "source": [
    "## Define model"
   ]
  },
  {
   "cell_type": "code",
   "execution_count": null,
   "metadata": {},
   "outputs": [],
   "source": [
    "from nflows import cef_models\n",
    "\n",
    "flow = cef_models.Cifar10CEFlow(m).to(device)"
   ]
  },
  {
   "cell_type": "markdown",
   "metadata": {},
   "source": [
    "## Train"
   ]
  },
  {
   "cell_type": "code",
   "execution_count": null,
   "metadata": {
    "scrolled": false
   },
   "outputs": [],
   "source": [
    "import torch.optim as opt\n",
    "from experiment import train_injective_flow\n",
    "\n",
    "optim = opt.Adam(flow.parameters(), lr=0.001)\n",
    "scheduler = opt.lr_scheduler.CosineAnnealingLR(optim, 1000)\n",
    "\n",
    "def weight_schedule():\n",
    "    '''Yield epoch weights for likelihood and recon loss, respectively'''\n",
    "    for _ in range(50):\n",
    "        yield 0, 100000\n",
    "        \n",
    "train_loader = DataLoader(train_data, batch_size=512, shuffle=True, num_workers=30)\n",
    "val_loader = DataLoader(val_data, batch_size=512, shuffle=True, num_workers=30)\n",
    "\n",
    "train_injective_flow(flow, optim, scheduler, weight_schedule, train_loader, val_loader,\n",
    "                     model_name, checkpoint_path=checkpoint_path, checkpoint_frequency=100)"
   ]
  },
  {
   "cell_type": "code",
   "execution_count": null,
   "metadata": {
    "scrolled": false
   },
   "outputs": [],
   "source": [
    "optim = opt.Adam(flow.distribution.parameters(), lr=0.001)\n",
    "scheduler = opt.lr_scheduler.CosineAnnealingLR(optim, 1000)\n",
    "\n",
    "def weight_schedule():\n",
    "    for _ in range(1000):\n",
    "        yield 0.01, 0\n",
    "        scheduler.step()\n",
    "\n",
    "train_injective_flow(flow, optim, scheduler, weight_schedule, train_loader, val_loader,\n",
    "                     model_name, checkpoint_path=checkpoint_path, checkpoint_frequency=25)"
   ]
  },
  {
   "cell_type": "markdown",
   "metadata": {},
   "source": [
    "## Generate some samples"
   ]
  },
  {
   "cell_type": "code",
   "execution_count": null,
   "metadata": {},
   "outputs": [],
   "source": [
    "from experiment import save_samples\n",
    "\n",
    "save_samples(flow, num_samples=10000, gen_path=gen_path, checkpoint_epoch=-1, batch_size=512)"
   ]
  }
 ],
 "metadata": {
  "kernelspec": {
   "display_name": "cflows",
   "language": "python",
   "name": "cflows"
  },
  "language_info": {
   "codemirror_mode": {
    "name": "ipython",
    "version": 3
   },
   "file_extension": ".py",
   "mimetype": "text/x-python",
   "name": "python",
   "nbconvert_exporter": "python",
   "pygments_lexer": "ipython3",
   "version": "3.9.6"
  }
 },
 "nbformat": 4,
 "nbformat_minor": 4
}
