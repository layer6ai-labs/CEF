{
 "cells": [
  {
   "cell_type": "markdown",
   "metadata": {},
   "source": [
    "## Config"
   ]
  },
  {
   "cell_type": "code",
   "execution_count": null,
   "metadata": {},
   "outputs": [],
   "source": [
    "%load_ext autoreload\n",
    "%autoreload 2\n",
    "\n",
    "import torch\n",
    "from pathlib import Path\n",
    "from experiment import data_path\n",
    "\n",
    "device = torch.device('cpu')\n",
    "model_name = 'mixture-plane-cef-joint'\n",
    "gen_path = data_path / 'generated' / model_name"
   ]
  },
  {
   "cell_type": "markdown",
   "metadata": {},
   "source": [
    "## Data"
   ]
  },
  {
   "cell_type": "code",
   "execution_count": null,
   "metadata": {},
   "outputs": [],
   "source": [
    "import data\n",
    "\n",
    "train_data = data.PaperAffineSubspace(size=64000)\n",
    "val_data = data.PaperAffineSubspace(size=12800)"
   ]
  },
  {
   "cell_type": "markdown",
   "metadata": {},
   "source": [
    "## Model"
   ]
  },
  {
   "cell_type": "code",
   "execution_count": null,
   "metadata": {},
   "outputs": [],
   "source": [
    "from nflows import cef_models, flows\n",
    "\n",
    "flow =  cef_models.MixturePlaneCEFlow(\n",
    "    base_flow_class=flows.SimpleGlow,\n",
    ").to(device)"
   ]
  },
  {
   "cell_type": "markdown",
   "metadata": {},
   "source": [
    "## Train"
   ]
  },
  {
   "cell_type": "markdown",
   "metadata": {},
   "source": [
    "Schedule training"
   ]
  },
  {
   "cell_type": "code",
   "execution_count": null,
   "metadata": {},
   "outputs": [],
   "source": [
    "import torch.optim as opt\n",
    "\n",
    "optim = opt.Adam(flow.parameters(), lr=0.001)\n",
    "epochs = 10\n",
    "\n",
    "def schedule():\n",
    "    '''Yield epoch weights for likelihood and recon loss, respectively'''\n",
    "    for _ in range(epochs):\n",
    "        yield 0.01, 100000"
   ]
  },
  {
   "cell_type": "markdown",
   "metadata": {},
   "source": [
    "Create dataloaders"
   ]
  },
  {
   "cell_type": "code",
   "execution_count": null,
   "metadata": {},
   "outputs": [],
   "source": [
    "from torch.utils.data import DataLoader\n",
    "\n",
    "train_batch_size = 64\n",
    "test_batch_size = 512\n",
    "\n",
    "train_loader = DataLoader(train_data, batch_size=train_batch_size, shuffle=True, num_workers=30)\n",
    "#test_loader = DataLoader(test_data, batch_size=test_batch_size, shuffle=True, num_workers=30)"
   ]
  },
  {
   "cell_type": "markdown",
   "metadata": {},
   "source": [
    "Train the flow"
   ]
  },
  {
   "cell_type": "code",
   "execution_count": null,
   "metadata": {
    "scrolled": false
   },
   "outputs": [],
   "source": [
    "import numpy as np\n",
    "import torch\n",
    "import torch.nn as nn\n",
    "from tqdm import tqdm\n",
    "\n",
    "\n",
    "for epoch, (alpha, beta) in enumerate(schedule()):\n",
    "    \n",
    "    # Train for one epoch\n",
    "    flow.train()\n",
    "    progress_bar = tqdm(enumerate(train_loader))\n",
    "    \n",
    "    for batch, point in progress_bar:\n",
    "        point = point.to(device)\n",
    "        optim.zero_grad()\n",
    "\n",
    "        # Compute reconstruction error\n",
    "        with torch.set_grad_enabled(beta > 0):\n",
    "            mid_latent, _ = flow.embedding.forward(point)\n",
    "            reconstruction, log_conf_det = flow.embedding.inverse(mid_latent)\n",
    "            reconstruction_error = torch.mean((point - reconstruction)**2)\n",
    "\n",
    "        # Compute log likelihood\n",
    "        with torch.set_grad_enabled(alpha > 0):\n",
    "            log_pu = flow.distribution.log_prob(mid_latent)\n",
    "            log_likelihood = torch.mean(log_pu + log_conf_det)\n",
    "\n",
    "        # Training step\n",
    "        loss = - alpha*log_likelihood + beta*reconstruction_error\n",
    "        loss.backward()\n",
    "        optim.step()\n",
    "\n",
    "        # Display results\n",
    "        progress_bar.set_description(f'[E{epoch} B{batch}] | loss: {loss: 6.2f} | LL: {log_likelihood:6.2f} '\n",
    "                                     f'| recon: {reconstruction_error:6.7f} ')"
   ]
  },
  {
   "cell_type": "markdown",
   "metadata": {},
   "source": [
    "## Plot the Learned Distribution"
   ]
  },
  {
   "cell_type": "code",
   "execution_count": null,
   "metadata": {},
   "outputs": [],
   "source": [
    "import matplotlib.pyplot as plt\n",
    "from matplotlib.colors import LinearSegmentedColormap\n",
    "from matplotlib import cm\n",
    "plt.style.use('default')\n",
    "\n",
    "\n",
    "rgbs = [(250/255,171/255,54/255),(223/255,220/255,119/255),(217/255,255/255,200/255),\n",
    "         (129/255,208/255,177/255), (36/255,158/255,160/255)]\n",
    "custom_cm = LinearSegmentedColormap.from_list(\"CEF_colors\", rgbs, N=21)\n",
    "lattice_num = 120\n",
    "extent = 1.5\n",
    "\n",
    "\n",
    "def model_likelihood_grid(x, y, z):\n",
    "    points = torch.Tensor(np.stack((x, y, z)).reshape(1, 1, 3, -1).T)\n",
    "    log_likelihood = torch.exp(flow.log_prob(points))\n",
    "    return log_likelihood.reshape(lattice_num, lattice_num).detach().numpy()\n",
    "\n",
    "fig = plt.figure(figsize=(12, 12))\n",
    "ax = fig.add_subplot(1, 1, 1, projection='3d')\n",
    "(x, y) = np.meshgrid(np.linspace(-extent, extent, lattice_num), np.linspace(-extent, extent, lattice_num))\n",
    "learned_mat, _ = flow.embedding.inverse(torch.eye(2).reshape(2, 2))\n",
    "learned_mat = learned_mat.squeeze().T\n",
    "plane_coords = torch.linalg.solve(learned_mat[:2,:], torch.Tensor(np.stack((x, y), axis=2).reshape(-1, 2, 1)))\n",
    "z = (learned_mat[2:,:] @ plane_coords).reshape(lattice_num, lattice_num).detach().numpy()\n",
    "likelihoods = model_likelihood_grid(x, y, z)\n",
    "\n",
    "ax.plot_surface(x, y, z, facecolors=custom_cm(likelihoods))\n",
    "ax.set_xlim(-extent, extent)\n",
    "ax.set_ylim(-extent, extent)\n",
    "ax.set_zlim(-extent, extent)"
   ]
  }
 ],
 "metadata": {
  "kernelspec": {
   "display_name": "cflows",
   "language": "python",
   "name": "cflows"
  },
  "language_info": {
   "codemirror_mode": {
    "name": "ipython",
    "version": 3
   },
   "file_extension": ".py",
   "mimetype": "text/x-python",
   "name": "python",
   "nbconvert_exporter": "python",
   "pygments_lexer": "ipython3",
   "version": "3.9.6"
  }
 },
 "nbformat": 4,
 "nbformat_minor": 4
}
