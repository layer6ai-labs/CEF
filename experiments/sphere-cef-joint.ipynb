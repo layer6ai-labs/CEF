{
 "cells": [
  {
   "cell_type": "markdown",
   "id": "07995473",
   "metadata": {},
   "source": [
    "## Config"
   ]
  },
  {
   "cell_type": "code",
   "execution_count": null,
   "id": "6a46ccfb",
   "metadata": {},
   "outputs": [],
   "source": [
    "%load_ext autoreload\n",
    "%autoreload 2\n",
    "\n",
    "from pathlib import Path\n",
    "from experiment import data_path\n",
    "\n",
    "model_name = 'sphere-cef-joint'\n",
    "gen_path = data_path / 'generated' / model_name"
   ]
  },
  {
   "cell_type": "markdown",
   "id": "f9e34a69",
   "metadata": {},
   "source": [
    "## Generate data non-uniformly on sphere"
   ]
  },
  {
   "cell_type": "code",
   "execution_count": null,
   "id": "73d76368",
   "metadata": {},
   "outputs": [],
   "source": [
    "from torch.utils.data import DataLoader, random_split\n",
    "import data\n",
    "import numpy as np\n",
    "\n",
    "num_samples = 1000\n",
    "batch_size = 100\n",
    "\n",
    "mu = [-1, -1, 0.0]\n",
    "sigma = [[1,0,0], [0,1,0], [0,0,1]]\n",
    "\n",
    "data = data.Sphere(\n",
    "    manifold_dim=2, \n",
    "    ambient_dim=3, \n",
    "    size=num_samples, \n",
    "    mu=mu, \n",
    "    sigma=sigma)"
   ]
  },
  {
   "cell_type": "code",
   "execution_count": null,
   "id": "f91828fe",
   "metadata": {
    "scrolled": true
   },
   "outputs": [],
   "source": [
    "from nflows import cef_models\n",
    "\n",
    "flow = cef_models.SphereCEFlow()\n",
    "conf_embedding = flow.embedding\n",
    "backbone = flow.distribution"
   ]
  },
  {
   "cell_type": "markdown",
   "id": "6628deba",
   "metadata": {},
   "source": [
    "## Train"
   ]
  },
  {
   "cell_type": "markdown",
   "id": "d111eb78",
   "metadata": {},
   "source": [
    "Schedule training"
   ]
  },
  {
   "cell_type": "code",
   "execution_count": null,
   "id": "f267168e",
   "metadata": {},
   "outputs": [],
   "source": [
    "import torch.optim as opt\n",
    "\n",
    "batch_size = 100\n",
    "optim = opt.Adam(flow.parameters(), lr=0.005)\n",
    "scheduler = opt.lr_scheduler.MultiStepLR(optim, milestones=[40], gamma=0.5)\n",
    "\n",
    "def schedule():\n",
    "    '''Yield epoch weights for likelihood and recon loss, respectively'''\n",
    "    for _ in range(45):\n",
    "        yield 10, 10000\n",
    "        scheduler.step()\n",
    "        \n",
    "loader = DataLoader(data, batch_size=batch_size, shuffle=True, num_workers=6)"
   ]
  },
  {
   "cell_type": "code",
   "execution_count": null,
   "id": "11ad3773",
   "metadata": {},
   "outputs": [],
   "source": [
    "import matplotlib as mpl\n",
    "import matplotlib.pyplot as plt\n",
    "import torch\n",
    "\n",
    "\n",
    "points = data.points[:num_samples]\n",
    "\n",
    "# Initialize model\n",
    "with torch.no_grad():\n",
    "    gen_samples = flow.sample(num_samples)\n",
    "    sample_mid_latent, _ = flow.embedding.forward(points)\n",
    "    sample_recons, _ =  flow.embedding.inverse(sample_mid_latent)\n",
    "\n",
    "# Plot data and recons before training\n",
    "fig = plt.figure(figsize=(8, 8))\n",
    "ax = fig.add_subplot(projection='3d')\n",
    "point_plot = ax.scatter(points[:,0].cpu(), points[:,1].cpu(), points[:,2].cpu(), \n",
    "                        color='#faab36')\n",
    "recon_plot = ax.scatter(sample_recons[:,0].cpu(), sample_recons[:,1].cpu(),\n",
    "                        sample_recons[:,2].cpu(), color='#249ea0')\n",
    "ax.auto_scale_xyz([-1.3, 1.3], [-1.3, 1.3], [-1, 1]) # Correct aspect ratio manually\n",
    "ax.view_init(elev=20, azim=260)"
   ]
  },
  {
   "cell_type": "code",
   "execution_count": null,
   "id": "7a08bbdc",
   "metadata": {
    "scrolled": false
   },
   "outputs": [],
   "source": [
    "import torch\n",
    "import torch.nn as nn\n",
    "from tqdm import tqdm\n",
    "\n",
    "for epoch, (alpha, beta) in enumerate(schedule()):\n",
    "    \n",
    "    # Train for one epoch\n",
    "    flow.train()\n",
    "    progress_bar = tqdm(enumerate(loader))\n",
    "    \n",
    "    for batch, point in progress_bar:\n",
    "        optim.zero_grad()\n",
    "\n",
    "        # Compute reconstruction error\n",
    "        with torch.set_grad_enabled(beta > 0):\n",
    "            mid_latent, _ = conf_embedding.forward(point)\n",
    "            reconstruction, log_conf_det = conf_embedding.inverse(mid_latent)\n",
    "            reconstruction_error = torch.mean((point - reconstruction)**2)\n",
    "\n",
    "        # Compute log likelihood\n",
    "        with torch.set_grad_enabled(alpha > 0):\n",
    "            log_pu = backbone.log_prob(mid_latent)\n",
    "            log_likelihood = torch.mean(log_pu - log_conf_det)\n",
    "\n",
    "        # Training step\n",
    "        loss = - alpha*log_likelihood + beta*reconstruction_error\n",
    "        loss.backward()\n",
    "        optim.step()\n",
    "\n",
    "        # Display results\n",
    "        progress_bar.set_description(f'[E{epoch} B{batch}] | loss: {loss: 6.2f} | LL: {log_likelihood:6.2f} '\n",
    "                                     f'| recon: {reconstruction_error:6.5f} ')"
   ]
  },
  {
   "cell_type": "code",
   "execution_count": null,
   "id": "c8ca2274",
   "metadata": {},
   "outputs": [],
   "source": [
    "# Plot data and recons\n",
    "with torch.no_grad():\n",
    "    sample_mid_latent, _ = conf_embedding.forward(points)\n",
    "    sample_recons, _ =  conf_embedding.inverse(sample_mid_latent)\n",
    "\n",
    "fig = plt.figure(figsize=(8, 8))\n",
    "ax = fig.add_subplot(projection='3d')\n",
    "point_plot = ax.scatter(points[:,0], points[:,1], points[:,2], color='#faab36')\n",
    "recon_plot = ax.scatter(sample_recons[:,0], sample_recons[:,1], sample_recons[:,2], \n",
    "                        color='#249ea0')\n",
    "ax.auto_scale_xyz([-1.3, 1.3], [-1.3, 1.3], [-1, 1]) # Correct aspect ratio manually\n",
    "ax.view_init(elev=20, azim=260)"
   ]
  },
  {
   "cell_type": "code",
   "execution_count": null,
   "id": "210dac4a",
   "metadata": {},
   "outputs": [],
   "source": [
    "# Plot generated samples to gauge density\n",
    "gen_samples = flow.sample(num_samples).detach()\n",
    "\n",
    "fig = plt.figure(figsize=(8, 8))\n",
    "ax = fig.add_subplot(projection='3d')\n",
    "point_plot = ax.scatter(gen_samples[:,0], gen_samples[:,1], gen_samples[:,2], color='#faab36')\n",
    "ax.auto_scale_xyz([-1.3, 1.3], [-1.3, 1.3], [-1, 1]) # Correct aspect ratio manually\n",
    "ax.view_init(elev=20, azim=260)"
   ]
  },
  {
   "cell_type": "markdown",
   "id": "a3ed1cfa",
   "metadata": {},
   "source": [
    "## Plot Densities and Samples"
   ]
  },
  {
   "cell_type": "code",
   "execution_count": null,
   "id": "13b421b3",
   "metadata": {},
   "outputs": [],
   "source": [
    "from matplotlib.colors import LinearSegmentedColormap\n",
    "from mpl_toolkits.mplot3d import Axes3D\n",
    "from matplotlib import cm\n",
    "\n",
    "rgbs = [(250/255,171/255,54/255),(223/255,220/255,119/255),(217/255,255/255,200/255),\n",
    "         (129/255,208/255,177/255), (36/255,158/255,160/255)] # Custom color scheme\n",
    "custom_cm = LinearSegmentedColormap.from_list(\"CEF_colors\", rgbs, N=21)"
   ]
  },
  {
   "cell_type": "code",
   "execution_count": null,
   "id": "29ae9cd2",
   "metadata": {},
   "outputs": [],
   "source": [
    "mkdir figures"
   ]
  },
  {
   "cell_type": "code",
   "execution_count": null,
   "id": "b12cdf5c",
   "metadata": {},
   "outputs": [],
   "source": [
    "# Plot the density of data distribution\n",
    "from scipy.special import erf\n",
    "\n",
    "mu_norm = np.linalg.norm(mu)\n",
    "const = np.exp(-mu_norm**2 / 2) / (2**(5/2) * np.pi**(3/2))\n",
    "\n",
    "def data_likelihood(x, y, z): # Density for 2d Sphere dataset\n",
    "    t = x*mu[0] + y*mu[1] + z*mu[2]\n",
    "    density = (2 * t) + np.sqrt(2*np.pi) * (t**2 + 1) * np.exp(t**2 / 2) * (1 + erf(t / np.sqrt(2)))\n",
    "    return density * const\n",
    "\n",
    "def plot_data_density():\n",
    "    # create grid of points on spherical surface\n",
    "    u = np.linspace(0, 2 * np.pi, 240) # azimuthal angle\n",
    "    v = np.linspace(0, np.pi, 120) # polar angle\n",
    "\n",
    "    # create the sphere surface in xyz coordinates\n",
    "    XX = np.outer(np.cos(u), np.sin(v))\n",
    "    YY = np.outer(np.sin(u), np.sin(v))\n",
    "    ZZ = np.outer(np.ones(np.size(u)), np.cos(v))\n",
    "\n",
    "    density_grid_2 = np.zeros_like(XX)\n",
    "    grid_points = np.zeros([len(u), 3], dtype=np.float32)\n",
    "    for i in range(len(v)):\n",
    "        z = np.cos(v[i])\n",
    "        s = np.sin(v[i])\n",
    "        for j in range(len(u)):\n",
    "            x = np.cos(u[j])*s\n",
    "            y = np.sin(u[j])*s\n",
    "            density_grid_2[j, i] = data_likelihood(x, y, z)\n",
    "    \n",
    "    # plot density as heatmap. for coloration values should fill (0,1)\n",
    "    heatmap = density_grid_2 / np.max(density_grid_2)\n",
    "    \n",
    "    return XX, YY, ZZ, density_grid_2, heatmap\n",
    "        \n",
    "fig = plt.figure()\n",
    "ax = fig.add_subplot(1, 1, 1, projection='3d')\n",
    "\n",
    "XX, YY, ZZ, density_grid_data, heatmap = plot_data_density()\n",
    "\n",
    "colorbar = cm.ScalarMappable(cmap=custom_cm)\n",
    "colorbar.set_array(density_grid_data)\n",
    "plt.colorbar(colorbar, pad=-0.02, fraction=0.026, format='%.2f')\n",
    "ax.view_init(elev=20, azim=260)\n",
    "ax.plot_surface(XX, YY, ZZ, cstride=1, rstride=1, facecolors=custom_cm(heatmap))\n",
    "ax.auto_scale_xyz([-1.15, 1.15], [-1.15, 1.15], [-1, 1]) # Correct aspect ratio manually\n",
    "ax.set_xticks([-1.0, -0.5, 0.0, 0.5, 1.0])\n",
    "ax.set_yticks([-1.0, -0.5, 0.0, 0.5, 1.0])\n",
    "ax.set_zticks([-1.0, -0.5, 0.0, 0.5, 1.0])\n",
    "plt.tight_layout(pad=0, w_pad=0)\n",
    "plt.savefig(\"figures/sphere-data-density.png\", bbox_inches='tight', dpi=300)\n",
    "plt.show()"
   ]
  },
  {
   "cell_type": "code",
   "execution_count": null,
   "id": "9160b4e2",
   "metadata": {},
   "outputs": [],
   "source": [
    "# Above should have similar distribution to original data distribution here\n",
    "fig = plt.figure(figsize=(8, 8))\n",
    "ax = fig.add_subplot(projection='3d')\n",
    "point_plot = ax.scatter(points[:,0], points[:,1], points[:,2], color='#faab36')\n",
    "ax.view_init(elev=20, azim=260)\n",
    "ax.set_xlim(-1.3, 1.3)  \n",
    "ax.set_ylim(-1.3, 1.3) \n",
    "ax.set_zlim(-1.0, 1.0) \n",
    "ax.set_xticks([-1.0, -0.5, 0.0, 0.5, 1.0])\n",
    "ax.set_yticks([-1.0, -0.5, 0.0, 0.5, 1.0])\n",
    "ax.set_zticks([-1.0, -0.5, 0.0, 0.5, 1.0])\n",
    "plt.savefig(\"figures/sphere-data-samples.png\", bbox_inches='tight', dpi=300)"
   ]
  },
  {
   "cell_type": "code",
   "execution_count": null,
   "id": "ba8af757",
   "metadata": {
    "scrolled": false
   },
   "outputs": [],
   "source": [
    "def likelihood_of_point(arr, manifold_model, density_model):\n",
    "    with torch.no_grad():        \n",
    "        grid_points = torch.from_numpy(arr)\n",
    "        mid_latent, _ = manifold_model.forward(grid_points)\n",
    "        _, log_conf_det = manifold_model.inverse(mid_latent)\n",
    "        log_pu = density_model.log_prob(mid_latent)\n",
    "        log_likelihood = log_pu - log_conf_det\n",
    "        \n",
    "    return torch.exp(log_likelihood).numpy()\n",
    "\n",
    "def plot_model_density(manifold_model, density_model):\n",
    "    # create grid of points on spherical surface\n",
    "    u = np.linspace(0, 2 * np.pi, 240) # azimuthal angle\n",
    "    v = np.linspace(0, np.pi, 120) # polar angle\n",
    "\n",
    "    # create the sphere surface in xyz coordinates\n",
    "    XX = np.outer(np.cos(u), np.sin(v))\n",
    "    YY = np.outer(np.sin(u), np.sin(v))\n",
    "    ZZ = np.outer(np.ones(np.size(u)), np.cos(v))\n",
    "\n",
    "    density_grid = np.zeros_like(XX)\n",
    "    grid_points = np.zeros([len(u), 3], dtype=np.float32)\n",
    "    for i in range(len(v)):\n",
    "        z = np.cos(v[i])\n",
    "        s = np.sin(v[i])\n",
    "        for j in range(len(u)):\n",
    "            grid_points[j, 0] = np.cos(u[j])*s\n",
    "            grid_points[j, 1] = np.sin(u[j])*s\n",
    "            grid_points[j, 2] = z\n",
    "    \n",
    "        # Treat every point in grid as (x, y, z) data_point\n",
    "        # Calculate likelihood from model in batches\n",
    "        density_grid[:, i] = likelihood_of_point(grid_points, manifold_model, density_model)\n",
    "    \n",
    "    # plot density as heatmap. for coloration values should fill (0,1)\n",
    "    heatmap = density_grid / np.max(density_grid_data)\n",
    "    \n",
    "    return XX, YY, ZZ, density_grid, heatmap\n",
    "\n",
    "fig = plt.figure()\n",
    "ax = fig.add_subplot(1, 1, 1, projection='3d')\n",
    "\n",
    "XX, YY, ZZ, density_grid, heatmap = plot_model_density(conf_embedding, backbone)\n",
    "\n",
    "colorbar = cm.ScalarMappable(cmap=custom_cm)\n",
    "colorbar.set_array(density_grid_data) # Setting to density_grid_data for matching scales\n",
    "plt.colorbar(colorbar, pad=-0.02, fraction=0.026, format='%.2f')\n",
    "ax.view_init(elev=20, azim=260)\n",
    "ax.plot_surface(XX, YY,  ZZ, cstride=1, rstride=1, facecolors=custom_cm(heatmap))\n",
    "ax.auto_scale_xyz([-1.15, 1.15], [-1.15, 1.15], [-1, 1]) # Correct aspect ratio manually\n",
    "ax.set_xticks([-1.0, -0.5, 0.0, 0.5, 1.0])\n",
    "ax.set_yticks([-1.0, -0.5, 0.0, 0.5, 1.0])\n",
    "ax.set_zticks([-1.0, -0.5, 0.0, 0.5, 1.0])\n",
    "plt.tight_layout(pad=0, w_pad=0)\n",
    "plt.savefig(\"figures/sphere-model-density.png\", bbox_inches='tight', dpi=300)\n",
    "plt.show()"
   ]
  },
  {
   "cell_type": "code",
   "execution_count": null,
   "id": "e5c4f61f",
   "metadata": {},
   "outputs": [],
   "source": [
    "# Replot using trained density model\n",
    "gen_samples = flow.sample(num_samples).detach()\n",
    "\n",
    "fig = plt.figure(figsize=(8, 8))\n",
    "ax = fig.add_subplot(projection='3d')\n",
    "gen_plot = ax.scatter(gen_samples[:,0], gen_samples[:,1], gen_samples[:,2], color='#faab36')\n",
    "ax.view_init(elev=20, azim=260)\n",
    "ax.set_xlim(-1.3, 1.3)  \n",
    "ax.set_ylim(-1.3, 1.3) \n",
    "ax.set_zlim(-1.0, 1.0) \n",
    "ax.set_xticks([-1.0, -0.5, 0.0, 0.5, 1.0])\n",
    "ax.set_yticks([-1.0, -0.5, 0.0, 0.5, 1.0])\n",
    "ax.set_zticks([-1.0, -0.5, 0.0, 0.5, 1.0])\n",
    "plt.savefig(\"figures/sphere-generated-samples.png\", dpi=300)"
   ]
  }
 ],
 "metadata": {
  "kernelspec": {
   "display_name": "cflows",
   "language": "python",
   "name": "cflows"
  },
  "language_info": {
   "codemirror_mode": {
    "name": "ipython",
    "version": 3
   },
   "file_extension": ".py",
   "mimetype": "text/x-python",
   "name": "python",
   "nbconvert_exporter": "python",
   "pygments_lexer": "ipython3",
   "version": "3.9.6"
  }
 },
 "nbformat": 4,
 "nbformat_minor": 5
}
